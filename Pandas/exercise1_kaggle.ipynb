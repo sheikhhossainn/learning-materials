{
 "cells": [
  {
   "cell_type": "markdown",
   "id": "4dc4d8ef",
   "metadata": {},
   "source": [
    "> # **Pandas Exercise - Kaggle**"
   ]
  },
  {
   "cell_type": "code",
   "execution_count": 1,
   "id": "8a3a560d",
   "metadata": {},
   "outputs": [],
   "source": [
    "import pandas as pd"
   ]
  },
  {
   "cell_type": "markdown",
   "id": "61d84f66",
   "metadata": {},
   "source": [
    "# **Exercise Problems of Kaggle**"
   ]
  },
  {
   "cell_type": "markdown",
   "id": "b317b6f6",
   "metadata": {},
   "source": [
    "**Exercise - 1**"
   ]
  },
  {
   "cell_type": "code",
   "execution_count": null,
   "id": "a6986319",
   "metadata": {},
   "outputs": [
    {
     "data": {
      "text/html": [
       "<div>\n",
       "<style scoped>\n",
       "    .dataframe tbody tr th:only-of-type {\n",
       "        vertical-align: middle;\n",
       "    }\n",
       "\n",
       "    .dataframe tbody tr th {\n",
       "        vertical-align: top;\n",
       "    }\n",
       "\n",
       "    .dataframe thead th {\n",
       "        text-align: right;\n",
       "    }\n",
       "</style>\n",
       "<table border=\"1\" class=\"dataframe\">\n",
       "  <thead>\n",
       "    <tr style=\"text-align: right;\">\n",
       "      <th></th>\n",
       "      <th>Apples</th>\n",
       "      <th>Bananas</th>\n",
       "    </tr>\n",
       "  </thead>\n",
       "  <tbody>\n",
       "    <tr>\n",
       "      <th>0</th>\n",
       "      <td>30</td>\n",
       "      <td>21</td>\n",
       "    </tr>\n",
       "  </tbody>\n",
       "</table>\n",
       "</div>"
      ],
      "text/plain": [
       "   Apples  Bananas\n",
       "0      30       21"
      ]
     },
     "execution_count": 12,
     "metadata": {},
     "output_type": "execute_result"
    }
   ],
   "source": [
    "fruits = pd.DataFrame(\n",
    "    {\n",
    "        \"Apples\": [30],\n",
    "        \"Bananas\": [21]\n",
    "    }\n",
    ")\n",
    "\n",
    "fruits # Last expression or variable which returns a value in the jupyter notebook will auto print the result"
   ]
  },
  {
   "cell_type": "markdown",
   "id": "b590760d",
   "metadata": {},
   "source": [
    "**Exercise - 2**"
   ]
  },
  {
   "cell_type": "code",
   "execution_count": null,
   "id": "c5c169cc",
   "metadata": {},
   "outputs": [
    {
     "data": {
      "text/html": [
       "<div>\n",
       "<style scoped>\n",
       "    .dataframe tbody tr th:only-of-type {\n",
       "        vertical-align: middle;\n",
       "    }\n",
       "\n",
       "    .dataframe tbody tr th {\n",
       "        vertical-align: top;\n",
       "    }\n",
       "\n",
       "    .dataframe thead th {\n",
       "        text-align: right;\n",
       "    }\n",
       "</style>\n",
       "<table border=\"1\" class=\"dataframe\">\n",
       "  <thead>\n",
       "    <tr style=\"text-align: right;\">\n",
       "      <th></th>\n",
       "      <th>Apples</th>\n",
       "      <th>Bananas</th>\n",
       "    </tr>\n",
       "  </thead>\n",
       "  <tbody>\n",
       "    <tr>\n",
       "      <th>2017 Sales</th>\n",
       "      <td>35</td>\n",
       "      <td>21</td>\n",
       "    </tr>\n",
       "    <tr>\n",
       "      <th>2018 Sales</th>\n",
       "      <td>41</td>\n",
       "      <td>34</td>\n",
       "    </tr>\n",
       "  </tbody>\n",
       "</table>\n",
       "</div>"
      ],
      "text/plain": [
       "            Apples  Bananas\n",
       "2017 Sales      35       21\n",
       "2018 Sales      41       34"
      ]
     },
     "execution_count": 17,
     "metadata": {},
     "output_type": "execute_result"
    }
   ],
   "source": [
    "fruit_sales = pd.DataFrame({\n",
    "    \"Apples\": [35, 41],\n",
    "    \"Bananas\": [21, 34]\n",
    "}, index=[\"2017 Sales\", \"2018 Sales\"] # This index line modifies the default index, and it goes by rows\n",
    ")\n",
    "\n",
    "fruit_sales"
   ]
  },
  {
   "cell_type": "markdown",
   "id": "36ebcdad",
   "metadata": {},
   "source": [
    "**Exercise - 3**"
   ]
  },
  {
   "cell_type": "code",
   "execution_count": 19,
   "id": "21f22ccb",
   "metadata": {},
   "outputs": [
    {
     "data": {
      "text/plain": [
       "Flour     4 cups\n",
       "Milk       1 cup\n",
       "Eggs     2 large\n",
       "Spam       1 can\n",
       "Name: Dinner, dtype: object"
      ]
     },
     "execution_count": 19,
     "metadata": {},
     "output_type": "execute_result"
    }
   ],
   "source": [
    "ingredients = pd.Series([\"4 cups\", \"1 cup\", \"2 large\", \"1 can\"], index = [\"Flour\", \"Milk\", \"Eggs\", \"Spam\"], name='Dinner')\n",
    "\n",
    "ingredients\n"
   ]
  },
  {
   "cell_type": "markdown",
   "id": "24318cc8",
   "metadata": {},
   "source": [
    "**Exercise - 4**"
   ]
  },
  {
   "cell_type": "markdown",
   "id": "19ec3d27",
   "metadata": {},
   "source": [
    "> \"D:\\image.png\" if we use this path in python it will show warnings, cause \\ refers to escape sequence in python. To avoid that we have to use **Raw String** which is like this **r\"*path here*\"**. We have to put **r** before the double quotes. "
   ]
  },
  {
   "cell_type": "code",
   "execution_count": 4,
   "id": "50a233f5",
   "metadata": {},
   "outputs": [
    {
     "data": {
      "text/html": [
       "<div>\n",
       "<style scoped>\n",
       "    .dataframe tbody tr th:only-of-type {\n",
       "        vertical-align: middle;\n",
       "    }\n",
       "\n",
       "    .dataframe tbody tr th {\n",
       "        vertical-align: top;\n",
       "    }\n",
       "\n",
       "    .dataframe thead th {\n",
       "        text-align: right;\n",
       "    }\n",
       "</style>\n",
       "<table border=\"1\" class=\"dataframe\">\n",
       "  <thead>\n",
       "    <tr style=\"text-align: right;\">\n",
       "      <th></th>\n",
       "      <th>country</th>\n",
       "      <th>description</th>\n",
       "      <th>designation</th>\n",
       "      <th>points</th>\n",
       "      <th>price</th>\n",
       "      <th>province</th>\n",
       "      <th>region_1</th>\n",
       "      <th>region_2</th>\n",
       "      <th>variety</th>\n",
       "      <th>winery</th>\n",
       "    </tr>\n",
       "  </thead>\n",
       "  <tbody>\n",
       "    <tr>\n",
       "      <th>0</th>\n",
       "      <td>US</td>\n",
       "      <td>This tremendous 100% varietal wine hails from ...</td>\n",
       "      <td>Martha's Vineyard</td>\n",
       "      <td>96</td>\n",
       "      <td>235.0</td>\n",
       "      <td>California</td>\n",
       "      <td>Napa Valley</td>\n",
       "      <td>Napa</td>\n",
       "      <td>Cabernet Sauvignon</td>\n",
       "      <td>Heitz</td>\n",
       "    </tr>\n",
       "    <tr>\n",
       "      <th>1</th>\n",
       "      <td>Spain</td>\n",
       "      <td>Ripe aromas of fig, blackberry and cassis are ...</td>\n",
       "      <td>Carodorum Selección Especial Reserva</td>\n",
       "      <td>96</td>\n",
       "      <td>110.0</td>\n",
       "      <td>Northern Spain</td>\n",
       "      <td>Toro</td>\n",
       "      <td>NaN</td>\n",
       "      <td>Tinta de Toro</td>\n",
       "      <td>Bodega Carmen Rodríguez</td>\n",
       "    </tr>\n",
       "    <tr>\n",
       "      <th>2</th>\n",
       "      <td>US</td>\n",
       "      <td>Mac Watson honors the memory of a wine once ma...</td>\n",
       "      <td>Special Selected Late Harvest</td>\n",
       "      <td>96</td>\n",
       "      <td>90.0</td>\n",
       "      <td>California</td>\n",
       "      <td>Knights Valley</td>\n",
       "      <td>Sonoma</td>\n",
       "      <td>Sauvignon Blanc</td>\n",
       "      <td>Macauley</td>\n",
       "    </tr>\n",
       "    <tr>\n",
       "      <th>3</th>\n",
       "      <td>US</td>\n",
       "      <td>This spent 20 months in 30% new French oak, an...</td>\n",
       "      <td>Reserve</td>\n",
       "      <td>96</td>\n",
       "      <td>65.0</td>\n",
       "      <td>Oregon</td>\n",
       "      <td>Willamette Valley</td>\n",
       "      <td>Willamette Valley</td>\n",
       "      <td>Pinot Noir</td>\n",
       "      <td>Ponzi</td>\n",
       "    </tr>\n",
       "    <tr>\n",
       "      <th>4</th>\n",
       "      <td>France</td>\n",
       "      <td>This is the top wine from La Bégude, named aft...</td>\n",
       "      <td>La Brûlade</td>\n",
       "      <td>95</td>\n",
       "      <td>66.0</td>\n",
       "      <td>Provence</td>\n",
       "      <td>Bandol</td>\n",
       "      <td>NaN</td>\n",
       "      <td>Provence red blend</td>\n",
       "      <td>Domaine de la Bégude</td>\n",
       "    </tr>\n",
       "    <tr>\n",
       "      <th>...</th>\n",
       "      <td>...</td>\n",
       "      <td>...</td>\n",
       "      <td>...</td>\n",
       "      <td>...</td>\n",
       "      <td>...</td>\n",
       "      <td>...</td>\n",
       "      <td>...</td>\n",
       "      <td>...</td>\n",
       "      <td>...</td>\n",
       "      <td>...</td>\n",
       "    </tr>\n",
       "    <tr>\n",
       "      <th>150925</th>\n",
       "      <td>Italy</td>\n",
       "      <td>Many people feel Fiano represents southern Ita...</td>\n",
       "      <td>NaN</td>\n",
       "      <td>91</td>\n",
       "      <td>20.0</td>\n",
       "      <td>Southern Italy</td>\n",
       "      <td>Fiano di Avellino</td>\n",
       "      <td>NaN</td>\n",
       "      <td>White Blend</td>\n",
       "      <td>Feudi di San Gregorio</td>\n",
       "    </tr>\n",
       "    <tr>\n",
       "      <th>150926</th>\n",
       "      <td>France</td>\n",
       "      <td>Offers an intriguing nose with ginger, lime an...</td>\n",
       "      <td>Cuvée Prestige</td>\n",
       "      <td>91</td>\n",
       "      <td>27.0</td>\n",
       "      <td>Champagne</td>\n",
       "      <td>Champagne</td>\n",
       "      <td>NaN</td>\n",
       "      <td>Champagne Blend</td>\n",
       "      <td>H.Germain</td>\n",
       "    </tr>\n",
       "    <tr>\n",
       "      <th>150927</th>\n",
       "      <td>Italy</td>\n",
       "      <td>This classic example comes from a cru vineyard...</td>\n",
       "      <td>Terre di Dora</td>\n",
       "      <td>91</td>\n",
       "      <td>20.0</td>\n",
       "      <td>Southern Italy</td>\n",
       "      <td>Fiano di Avellino</td>\n",
       "      <td>NaN</td>\n",
       "      <td>White Blend</td>\n",
       "      <td>Terredora</td>\n",
       "    </tr>\n",
       "    <tr>\n",
       "      <th>150928</th>\n",
       "      <td>France</td>\n",
       "      <td>A perfect salmon shade, with scents of peaches...</td>\n",
       "      <td>Grand Brut Rosé</td>\n",
       "      <td>90</td>\n",
       "      <td>52.0</td>\n",
       "      <td>Champagne</td>\n",
       "      <td>Champagne</td>\n",
       "      <td>NaN</td>\n",
       "      <td>Champagne Blend</td>\n",
       "      <td>Gosset</td>\n",
       "    </tr>\n",
       "    <tr>\n",
       "      <th>150929</th>\n",
       "      <td>Italy</td>\n",
       "      <td>More Pinot Grigios should taste like this. A r...</td>\n",
       "      <td>NaN</td>\n",
       "      <td>90</td>\n",
       "      <td>15.0</td>\n",
       "      <td>Northeastern Italy</td>\n",
       "      <td>Alto Adige</td>\n",
       "      <td>NaN</td>\n",
       "      <td>Pinot Grigio</td>\n",
       "      <td>Alois Lageder</td>\n",
       "    </tr>\n",
       "  </tbody>\n",
       "</table>\n",
       "<p>150930 rows × 10 columns</p>\n",
       "</div>"
      ],
      "text/plain": [
       "       country                                        description  \\\n",
       "0           US  This tremendous 100% varietal wine hails from ...   \n",
       "1        Spain  Ripe aromas of fig, blackberry and cassis are ...   \n",
       "2           US  Mac Watson honors the memory of a wine once ma...   \n",
       "3           US  This spent 20 months in 30% new French oak, an...   \n",
       "4       France  This is the top wine from La Bégude, named aft...   \n",
       "...        ...                                                ...   \n",
       "150925   Italy  Many people feel Fiano represents southern Ita...   \n",
       "150926  France  Offers an intriguing nose with ginger, lime an...   \n",
       "150927   Italy  This classic example comes from a cru vineyard...   \n",
       "150928  France  A perfect salmon shade, with scents of peaches...   \n",
       "150929   Italy  More Pinot Grigios should taste like this. A r...   \n",
       "\n",
       "                                 designation  points  price  \\\n",
       "0                          Martha's Vineyard      96  235.0   \n",
       "1       Carodorum Selección Especial Reserva      96  110.0   \n",
       "2              Special Selected Late Harvest      96   90.0   \n",
       "3                                    Reserve      96   65.0   \n",
       "4                                 La Brûlade      95   66.0   \n",
       "...                                      ...     ...    ...   \n",
       "150925                                   NaN      91   20.0   \n",
       "150926                        Cuvée Prestige      91   27.0   \n",
       "150927                         Terre di Dora      91   20.0   \n",
       "150928                       Grand Brut Rosé      90   52.0   \n",
       "150929                                   NaN      90   15.0   \n",
       "\n",
       "                  province           region_1           region_2  \\\n",
       "0               California        Napa Valley               Napa   \n",
       "1           Northern Spain               Toro                NaN   \n",
       "2               California     Knights Valley             Sonoma   \n",
       "3                   Oregon  Willamette Valley  Willamette Valley   \n",
       "4                 Provence             Bandol                NaN   \n",
       "...                    ...                ...                ...   \n",
       "150925      Southern Italy  Fiano di Avellino                NaN   \n",
       "150926           Champagne          Champagne                NaN   \n",
       "150927      Southern Italy  Fiano di Avellino                NaN   \n",
       "150928           Champagne          Champagne                NaN   \n",
       "150929  Northeastern Italy         Alto Adige                NaN   \n",
       "\n",
       "                   variety                   winery  \n",
       "0       Cabernet Sauvignon                    Heitz  \n",
       "1            Tinta de Toro  Bodega Carmen Rodríguez  \n",
       "2          Sauvignon Blanc                 Macauley  \n",
       "3               Pinot Noir                    Ponzi  \n",
       "4       Provence red blend     Domaine de la Bégude  \n",
       "...                    ...                      ...  \n",
       "150925         White Blend    Feudi di San Gregorio  \n",
       "150926     Champagne Blend                H.Germain  \n",
       "150927         White Blend                Terredora  \n",
       "150928     Champagne Blend                   Gosset  \n",
       "150929        Pinot Grigio            Alois Lageder  \n",
       "\n",
       "[150930 rows x 10 columns]"
      ]
     },
     "execution_count": 4,
     "metadata": {},
     "output_type": "execute_result"
    }
   ],
   "source": [
    "reviews = pd.read_csv(r\"D:\\Jupyter Notebook\\Datasets\\winemag-data_first150k.csv\", index_col=0)\n",
    "# index_col=0 -> it converts auto generated index from DataFrame to row's label\n",
    "reviews"
   ]
  },
  {
   "cell_type": "markdown",
   "id": "c94eee24",
   "metadata": {},
   "source": [
    "**Exercise - 5**"
   ]
  },
  {
   "cell_type": "markdown",
   "id": "244bd52a",
   "metadata": {},
   "source": [
    "> Convert DataFrame into a csv file"
   ]
  },
  {
   "cell_type": "code",
   "execution_count": 9,
   "id": "02cb1f3c",
   "metadata": {},
   "outputs": [
    {
     "data": {
      "text/html": [
       "<div>\n",
       "<style scoped>\n",
       "    .dataframe tbody tr th:only-of-type {\n",
       "        vertical-align: middle;\n",
       "    }\n",
       "\n",
       "    .dataframe tbody tr th {\n",
       "        vertical-align: top;\n",
       "    }\n",
       "\n",
       "    .dataframe thead th {\n",
       "        text-align: right;\n",
       "    }\n",
       "</style>\n",
       "<table border=\"1\" class=\"dataframe\">\n",
       "  <thead>\n",
       "    <tr style=\"text-align: right;\">\n",
       "      <th></th>\n",
       "      <th>Cows</th>\n",
       "      <th>Goats</th>\n",
       "    </tr>\n",
       "  </thead>\n",
       "  <tbody>\n",
       "    <tr>\n",
       "      <th>Year 1</th>\n",
       "      <td>12</td>\n",
       "      <td>22</td>\n",
       "    </tr>\n",
       "    <tr>\n",
       "      <th>Year 2</th>\n",
       "      <td>20</td>\n",
       "      <td>19</td>\n",
       "    </tr>\n",
       "  </tbody>\n",
       "</table>\n",
       "</div>"
      ],
      "text/plain": [
       "        Cows  Goats\n",
       "Year 1    12     22\n",
       "Year 2    20     19"
      ]
     },
     "execution_count": 9,
     "metadata": {},
     "output_type": "execute_result"
    }
   ],
   "source": [
    "animals = pd.DataFrame({'Cows': [12, 20], 'Goats': [22, 19]}, index=['Year 1', 'Year 2'])\n",
    "animals"
   ]
  },
  {
   "cell_type": "code",
   "execution_count": 11,
   "id": "0bd7b724",
   "metadata": {},
   "outputs": [
    {
     "name": "stdout",
     "output_type": "stream",
     "text": [
      "        Cows  Goats\n",
      "Year 1    12     22\n",
      "Year 2    20     19\n"
     ]
    }
   ],
   "source": [
    "animals.to_csv(\"cows_and_goats.csv\")\n",
    "\n",
    "print(animals.to_string())"
   ]
  }
 ],
 "metadata": {
  "kernelspec": {
   "display_name": "Python 3",
   "language": "python",
   "name": "python3"
  },
  "language_info": {
   "codemirror_mode": {
    "name": "ipython",
    "version": 3
   },
   "file_extension": ".py",
   "mimetype": "text/x-python",
   "name": "python",
   "nbconvert_exporter": "python",
   "pygments_lexer": "ipython3",
   "version": "3.13.3"
  }
 },
 "nbformat": 4,
 "nbformat_minor": 5
}
